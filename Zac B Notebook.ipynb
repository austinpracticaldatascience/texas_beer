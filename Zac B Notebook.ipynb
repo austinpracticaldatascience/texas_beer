{
 "cells": [
  {
   "cell_type": "code",
   "execution_count": 1,
   "id": "b333f99f",
   "metadata": {},
   "outputs": [],
   "source": [
    "import pandas as pd\n",
    "import numpy as np\n",
    "import matplotlib.pyplot as plt"
   ]
  },
  {
   "cell_type": "code",
   "execution_count": 2,
   "id": "5c7d96c9",
   "metadata": {},
   "outputs": [],
   "source": [
    "data = pd.read_csv('Mixed_Beverage_Gross_Receipts.csv')"
   ]
  },
  {
   "cell_type": "code",
   "execution_count": 3,
   "id": "791a35e4",
   "metadata": {},
   "outputs": [
    {
     "name": "stdout",
     "output_type": "stream",
     "text": [
      "(2842120, 24)\n",
      "Index(['Taxpayer Number', 'Taxpayer Name', 'Taxpayer Address', 'Taxpayer City',\n",
      "       'Taxpayer State', 'Taxpayer Zip', 'Taxpayer County', 'Location Number',\n",
      "       'Location Name', 'Location Address', 'Location City', 'Location State',\n",
      "       'Location Zip', 'Location County', 'Inside/Outside City Limits',\n",
      "       'TABC Permit Number', 'Responsibility Begin Date',\n",
      "       'Responsibility End Date', 'Obligation End Date', 'Liquor Receipts',\n",
      "       'Wine Receipts', 'Beer Receipts', 'Cover Charge Receipts',\n",
      "       'Total Receipts'],\n",
      "      dtype='object')\n"
     ]
    }
   ],
   "source": [
    "print(data.shape)\n",
    "print(data.columns)"
   ]
  },
  {
   "cell_type": "code",
   "execution_count": 4,
   "id": "8777893c",
   "metadata": {},
   "outputs": [
    {
     "data": {
      "text/html": [
       "<div>\n",
       "<style scoped>\n",
       "    .dataframe tbody tr th:only-of-type {\n",
       "        vertical-align: middle;\n",
       "    }\n",
       "\n",
       "    .dataframe tbody tr th {\n",
       "        vertical-align: top;\n",
       "    }\n",
       "\n",
       "    .dataframe thead th {\n",
       "        text-align: right;\n",
       "    }\n",
       "</style>\n",
       "<table border=\"1\" class=\"dataframe\">\n",
       "  <thead>\n",
       "    <tr style=\"text-align: right;\">\n",
       "      <th></th>\n",
       "      <th>Taxpayer Number</th>\n",
       "      <th>Taxpayer Name</th>\n",
       "      <th>Taxpayer Address</th>\n",
       "      <th>Taxpayer City</th>\n",
       "      <th>Taxpayer State</th>\n",
       "      <th>Taxpayer Zip</th>\n",
       "      <th>Taxpayer County</th>\n",
       "      <th>Location Number</th>\n",
       "      <th>Location Name</th>\n",
       "      <th>Location Address</th>\n",
       "      <th>...</th>\n",
       "      <th>Inside/Outside City Limits</th>\n",
       "      <th>TABC Permit Number</th>\n",
       "      <th>Responsibility Begin Date</th>\n",
       "      <th>Responsibility End Date</th>\n",
       "      <th>Obligation End Date</th>\n",
       "      <th>Liquor Receipts</th>\n",
       "      <th>Wine Receipts</th>\n",
       "      <th>Beer Receipts</th>\n",
       "      <th>Cover Charge Receipts</th>\n",
       "      <th>Total Receipts</th>\n",
       "    </tr>\n",
       "  </thead>\n",
       "  <tbody>\n",
       "    <tr>\n",
       "      <th>0</th>\n",
       "      <td>32047970895</td>\n",
       "      <td>HONDURAS MAYA CAFE &amp; BAR LLC</td>\n",
       "      <td>8011 HAZEN ST</td>\n",
       "      <td>HOUSTON</td>\n",
       "      <td>TX</td>\n",
       "      <td>77036.0</td>\n",
       "      <td>101</td>\n",
       "      <td>1</td>\n",
       "      <td>HONDURAS MAYA CAFE &amp; BAR LLC</td>\n",
       "      <td>5945 BELLAIRE BLVD STE B</td>\n",
       "      <td>...</td>\n",
       "      <td>Y</td>\n",
       "      <td>MB817033</td>\n",
       "      <td>08/16/2012</td>\n",
       "      <td>09/12/2019</td>\n",
       "      <td>07/31/2019</td>\n",
       "      <td>0</td>\n",
       "      <td>0</td>\n",
       "      <td>0</td>\n",
       "      <td>0</td>\n",
       "      <td>0</td>\n",
       "    </tr>\n",
       "    <tr>\n",
       "      <th>1</th>\n",
       "      <td>32049923835</td>\n",
       "      <td>MERMAID KARAOKE PRIVATE CLUB, INC.</td>\n",
       "      <td>2639 WALNUT HILL LN STE 225</td>\n",
       "      <td>DALLAS</td>\n",
       "      <td>TX</td>\n",
       "      <td>75229.0</td>\n",
       "      <td>57</td>\n",
       "      <td>1</td>\n",
       "      <td>MERMAID KARAOKE PRIVATE CLUB</td>\n",
       "      <td>1310 W CAMPBELL RD STE 103</td>\n",
       "      <td>...</td>\n",
       "      <td>Y</td>\n",
       "      <td>N 837378</td>\n",
       "      <td>04/12/2013</td>\n",
       "      <td>07/01/2015</td>\n",
       "      <td>08/31/2014</td>\n",
       "      <td>480</td>\n",
       "      <td>185</td>\n",
       "      <td>1374</td>\n",
       "      <td>0</td>\n",
       "      <td>2039</td>\n",
       "    </tr>\n",
       "    <tr>\n",
       "      <th>2</th>\n",
       "      <td>32034036304</td>\n",
       "      <td>FENG KAI CORPORATION</td>\n",
       "      <td>8427 BOULEVARD 26</td>\n",
       "      <td>N RICHLND HLS</td>\n",
       "      <td>TX</td>\n",
       "      <td>76180.0</td>\n",
       "      <td>220</td>\n",
       "      <td>1</td>\n",
       "      <td>JAPANESE GRILL</td>\n",
       "      <td>8427 BOULEVARD 26</td>\n",
       "      <td>...</td>\n",
       "      <td>Y</td>\n",
       "      <td>MB576670</td>\n",
       "      <td>05/01/2008</td>\n",
       "      <td>03/17/2018</td>\n",
       "      <td>06/30/2016</td>\n",
       "      <td>1143</td>\n",
       "      <td>167</td>\n",
       "      <td>669</td>\n",
       "      <td>0</td>\n",
       "      <td>1979</td>\n",
       "    </tr>\n",
       "    <tr>\n",
       "      <th>3</th>\n",
       "      <td>14537211071</td>\n",
       "      <td>THE HUTTO SMITHS, LLC</td>\n",
       "      <td>429 LITTLE LAKE RD</td>\n",
       "      <td>HUTTO</td>\n",
       "      <td>TX</td>\n",
       "      <td>78634.0</td>\n",
       "      <td>246</td>\n",
       "      <td>1</td>\n",
       "      <td>THE DOWNTOWN HALL OF FAME</td>\n",
       "      <td>205 EAST ST</td>\n",
       "      <td>...</td>\n",
       "      <td>Y</td>\n",
       "      <td>MB791778</td>\n",
       "      <td>12/06/2011</td>\n",
       "      <td>NaN</td>\n",
       "      <td>03/31/2018</td>\n",
       "      <td>12881</td>\n",
       "      <td>357</td>\n",
       "      <td>10447</td>\n",
       "      <td>0</td>\n",
       "      <td>23685</td>\n",
       "    </tr>\n",
       "    <tr>\n",
       "      <th>4</th>\n",
       "      <td>32019999229</td>\n",
       "      <td>THE CROSSING AT FIDDLE CREEK, INC.</td>\n",
       "      <td>1620 W CEDAR ST</td>\n",
       "      <td>STEPHENVILLE</td>\n",
       "      <td>TX</td>\n",
       "      <td>76401.0</td>\n",
       "      <td>72</td>\n",
       "      <td>1</td>\n",
       "      <td>THE CROSSING AT FIDDLE CREEK INC</td>\n",
       "      <td>2004 W SWAN ST</td>\n",
       "      <td>...</td>\n",
       "      <td>Y</td>\n",
       "      <td>N 643163</td>\n",
       "      <td>10/26/2006</td>\n",
       "      <td>11/30/2013</td>\n",
       "      <td>08/31/2008</td>\n",
       "      <td>4841</td>\n",
       "      <td>2413</td>\n",
       "      <td>4620</td>\n",
       "      <td>0</td>\n",
       "      <td>11874</td>\n",
       "    </tr>\n",
       "  </tbody>\n",
       "</table>\n",
       "<p>5 rows × 24 columns</p>\n",
       "</div>"
      ],
      "text/plain": [
       "   Taxpayer Number                       Taxpayer Name  \\\n",
       "0      32047970895        HONDURAS MAYA CAFE & BAR LLC   \n",
       "1      32049923835  MERMAID KARAOKE PRIVATE CLUB, INC.   \n",
       "2      32034036304                FENG KAI CORPORATION   \n",
       "3      14537211071               THE HUTTO SMITHS, LLC   \n",
       "4      32019999229  THE CROSSING AT FIDDLE CREEK, INC.   \n",
       "\n",
       "              Taxpayer Address  Taxpayer City Taxpayer State  Taxpayer Zip  \\\n",
       "0                8011 HAZEN ST        HOUSTON             TX       77036.0   \n",
       "1  2639 WALNUT HILL LN STE 225         DALLAS             TX       75229.0   \n",
       "2            8427 BOULEVARD 26  N RICHLND HLS             TX       76180.0   \n",
       "3           429 LITTLE LAKE RD          HUTTO             TX       78634.0   \n",
       "4              1620 W CEDAR ST   STEPHENVILLE             TX       76401.0   \n",
       "\n",
       "   Taxpayer County  Location Number                     Location Name  \\\n",
       "0              101                1      HONDURAS MAYA CAFE & BAR LLC   \n",
       "1               57                1      MERMAID KARAOKE PRIVATE CLUB   \n",
       "2              220                1                    JAPANESE GRILL   \n",
       "3              246                1         THE DOWNTOWN HALL OF FAME   \n",
       "4               72                1  THE CROSSING AT FIDDLE CREEK INC   \n",
       "\n",
       "             Location Address  ... Inside/Outside City Limits  \\\n",
       "0    5945 BELLAIRE BLVD STE B  ...                          Y   \n",
       "1  1310 W CAMPBELL RD STE 103  ...                          Y   \n",
       "2           8427 BOULEVARD 26  ...                          Y   \n",
       "3                 205 EAST ST  ...                          Y   \n",
       "4              2004 W SWAN ST  ...                          Y   \n",
       "\n",
       "  TABC Permit Number  Responsibility Begin Date  Responsibility End Date  \\\n",
       "0           MB817033                 08/16/2012               09/12/2019   \n",
       "1           N 837378                 04/12/2013               07/01/2015   \n",
       "2           MB576670                 05/01/2008               03/17/2018   \n",
       "3           MB791778                 12/06/2011                      NaN   \n",
       "4           N 643163                 10/26/2006               11/30/2013   \n",
       "\n",
       "  Obligation End Date Liquor Receipts Wine Receipts Beer Receipts  \\\n",
       "0          07/31/2019               0             0             0   \n",
       "1          08/31/2014             480           185          1374   \n",
       "2          06/30/2016            1143           167           669   \n",
       "3          03/31/2018           12881           357         10447   \n",
       "4          08/31/2008            4841          2413          4620   \n",
       "\n",
       "  Cover Charge Receipts  Total Receipts  \n",
       "0                     0               0  \n",
       "1                     0            2039  \n",
       "2                     0            1979  \n",
       "3                     0           23685  \n",
       "4                     0           11874  \n",
       "\n",
       "[5 rows x 24 columns]"
      ]
     },
     "execution_count": 4,
     "metadata": {},
     "output_type": "execute_result"
    }
   ],
   "source": [
    "data.head()"
   ]
  },
  {
   "cell_type": "code",
   "execution_count": 5,
   "id": "86b1d210",
   "metadata": {},
   "outputs": [],
   "source": [
    "sa_code = 15\n",
    "dfw_code = [57, 220]\n",
    "hou_code = 101\n",
    "atx_code = 227"
   ]
  },
  {
   "cell_type": "code",
   "execution_count": 8,
   "id": "da7ba461",
   "metadata": {},
   "outputs": [],
   "source": [
    "data['Obligation End Date'] = pd.to_datetime(data['Obligation End Date'])"
   ]
  },
  {
   "cell_type": "code",
   "execution_count": 17,
   "id": "f3b1411d",
   "metadata": {},
   "outputs": [],
   "source": [
    "beer_sales_by_year = data['Beer Receipts'].groupby(data['Obligation End Date'].dt.year).sum()"
   ]
  },
  {
   "cell_type": "code",
   "execution_count": 13,
   "id": "a25d9511",
   "metadata": {},
   "outputs": [
    {
     "data": {
      "image/png": "[encoded data removed]",
      "text/plain": [
       "<Figure size 432x288 with 1 Axes>"
      ]
     },
     "metadata": {
      "needs_background": "light"
     },
     "output_type": "display_data"
    }
   ],
   "source": [
    "plt.plot(beer_sales_by_year)\n",
    "plt.xlabel('Year')\n",
    "plt.ylabel('Sales (Billions)')\n",
    "plt.title('Texas Beer Sales')\n",
    "plt.show()"
   ]
  },
  {
   "cell_type": "code",
   "execution_count": 26,
   "id": "d1a5df6e",
   "metadata": {},
   "outputs": [],
   "source": [
    "data['total_sales'] = data['Beer Receipts'] + data['Liquor Receipts'] + data['Wine Receipts']\n",
    "total_sales_by_year = data['total_sales'].groupby(data['Obligation End Date'].dt.year).sum()"
   ]
  },
  {
   "cell_type": "code",
   "execution_count": 28,
   "id": "2b9c783c",
   "metadata": {},
   "outputs": [],
   "source": [
    "percent_beer = (beer_sales_by_year / total_sales_by_year) * 100"
   ]
  },
  {
   "cell_type": "code",
   "execution_count": 29,
   "id": "c96956bd",
   "metadata": {},
   "outputs": [
    {
     "data": {
      "image/png": "[encoded data removed]",
      "text/plain": [
       "<Figure size 432x288 with 1 Axes>"
      ]
     },
     "metadata": {
      "needs_background": "light"
     },
     "output_type": "display_data"
    }
   ],
   "source": [
    "plt.plot(percent_beer)\n",
    "plt.xlabel('Year')\n",
    "plt.ylabel('Beer Percentage of Sales')\n",
    "plt.title('Beer Percentage of Alcohol Sales in Texas')\n",
    "plt.show()"
   ]
  },
  {
   "cell_type": "code",
   "execution_count": 45,
   "id": "8fc95ec0",
   "metadata": {},
   "outputs": [],
   "source": [
    "dallas_beer = data[data['Taxpayer County'] == 57]['Beer Receipts'].groupby(data['Obligation End Date'].dt.year).sum()\n",
    "dallas_total = data[data['Taxpayer County'] == 57]['total_sales'].groupby(data['Obligation End Date'].dt.year).sum()\n",
    "fw_beer = data[data['Taxpayer County'] == 220]['Beer Receipts'].groupby(data['Obligation End Date'].dt.year).sum()\n",
    "fw_total = data[data['Taxpayer County'] == 220]['total_sales'].groupby(data['Obligation End Date'].dt.year).sum()"
   ]
  },
  {
   "cell_type": "code",
   "execution_count": 46,
   "id": "68b1adc6",
   "metadata": {},
   "outputs": [],
   "source": [
    "atx_percent_beer = (data[data['Taxpayer County'] == atx_code]['Beer Receipts'].groupby(data['Obligation End Date'].dt.year).sum() / data[data['Taxpayer County'] == atx_code]['total_sales'].groupby(data['Obligation End Date'].dt.year).sum()) * 100\n",
    "dfw_percent_beer = ((dallas_beer + fw_beer) / (dallas_total + fw_total)) * 100\n",
    "sa_percent_beer = (data[data['Taxpayer County'] == sa_code]['Beer Receipts'].groupby(data['Obligation End Date'].dt.year).sum() / data[data['Taxpayer County'] == sa_code]['total_sales'].groupby(data['Obligation End Date'].dt.year).sum()) * 100\n",
    "hou_percent_beer = (data[data['Taxpayer County'] == hou_code]['Beer Receipts'].groupby(data['Obligation End Date'].dt.year).sum() / data[data['Taxpayer County'] == hou_code]['total_sales'].groupby(data['Obligation End Date'].dt.year).sum()) * 100"
   ]
  },
  {
   "cell_type": "code",
   "execution_count": 47,
   "id": "89581f52",
   "metadata": {},
   "outputs": [
    {
     "data": {
      "image/png": "[encoded data removed]",
      "text/plain": [
       "<Figure size 432x288 with 1 Axes>"
      ]
     },
     "metadata": {
      "needs_background": "light"
     },
     "output_type": "display_data"
    }
   ],
   "source": [
    "plt.plot(percent_beer)\n",
    "plt.plot(atx_percent_beer)\n",
    "plt.plot(dfw_percent_beer)\n",
    "plt.plot(sa_percent_beer)\n",
    "plt.plot(hou_percent_beer)\n",
    "plt.xlabel('Year')\n",
    "plt.ylabel('Beer Percentage of Sales')\n",
    "plt.title('Beer Percentage of Alcohol Sales Throughout Texas')\n",
    "plt.legend(['TX', 'Austin', 'Dallas-Fort Worth', 'San Antonio', 'Houston'], loc = 'upper right')\n",
    "plt.show()"
   ]
  },
  {
   "cell_type": "code",
   "execution_count": 53,
   "id": "07b34a2d",
   "metadata": {},
   "outputs": [
    {
     "name": "stderr",
     "output_type": "stream",
     "text": [
      "C:\\Users\\Zjbro\\AppData\\Local\\Temp/ipykernel_1352/1268239965.py:3: FutureWarning: In a future version of pandas all arguments of Series.sort_values will be keyword-only\n",
      "  atx_2021_top = atx_2021['Beer Receipts'].sort_values(['Taxpayer Name', 'Beer Receipts']).groupby('Taxpayer Name')\n"
     ]
    },
    {
     "ename": "TypeError",
     "evalue": "unhashable type: 'list'",
     "output_type": "error",
     "traceback": [
      "\u001b[1;31m---------------------------------------------------------------------------\u001b[0m",
      "\u001b[1;31mTypeError\u001b[0m                                 Traceback (most recent call last)",
      "\u001b[1;32m~\\AppData\\Local\\Temp/ipykernel_1352/1268239965.py\u001b[0m in \u001b[0;36m<module>\u001b[1;34m\u001b[0m\n\u001b[0;32m      1\u001b[0m \u001b[0matx\u001b[0m \u001b[1;33m=\u001b[0m \u001b[0mdata\u001b[0m\u001b[1;33m[\u001b[0m\u001b[0mdata\u001b[0m\u001b[1;33m[\u001b[0m\u001b[1;34m'Taxpayer County'\u001b[0m\u001b[1;33m]\u001b[0m \u001b[1;33m==\u001b[0m \u001b[0matx_code\u001b[0m\u001b[1;33m]\u001b[0m\u001b[1;33m\u001b[0m\u001b[1;33m\u001b[0m\u001b[0m\n\u001b[0;32m      2\u001b[0m \u001b[0matx_2021\u001b[0m \u001b[1;33m=\u001b[0m \u001b[0matx\u001b[0m\u001b[1;33m[\u001b[0m\u001b[0matx\u001b[0m\u001b[1;33m[\u001b[0m\u001b[1;34m'Obligation End Date'\u001b[0m\u001b[1;33m]\u001b[0m\u001b[1;33m.\u001b[0m\u001b[0mdt\u001b[0m\u001b[1;33m.\u001b[0m\u001b[0myear\u001b[0m \u001b[1;33m==\u001b[0m \u001b[1;36m2021\u001b[0m\u001b[1;33m]\u001b[0m\u001b[1;33m\u001b[0m\u001b[1;33m\u001b[0m\u001b[0m\n\u001b[1;32m----> 3\u001b[1;33m \u001b[0matx_2021_top\u001b[0m \u001b[1;33m=\u001b[0m \u001b[0matx_2021\u001b[0m\u001b[1;33m[\u001b[0m\u001b[1;34m'Beer Receipts'\u001b[0m\u001b[1;33m]\u001b[0m\u001b[1;33m.\u001b[0m\u001b[0msort_values\u001b[0m\u001b[1;33m(\u001b[0m\u001b[1;33m[\u001b[0m\u001b[1;34m'Taxpayer Name'\u001b[0m\u001b[1;33m,\u001b[0m \u001b[1;34m'Beer Receipts'\u001b[0m\u001b[1;33m]\u001b[0m\u001b[1;33m)\u001b[0m\u001b[1;33m.\u001b[0m\u001b[0mgroupby\u001b[0m\u001b[1;33m(\u001b[0m\u001b[1;34m'Taxpayer Name'\u001b[0m\u001b[1;33m)\u001b[0m\u001b[1;33m\u001b[0m\u001b[1;33m\u001b[0m\u001b[0m\n\u001b[0m",
      "\u001b[1;32m~\\anaconda3\\lib\\site-packages\\pandas\\util\\_decorators.py\u001b[0m in \u001b[0;36mwrapper\u001b[1;34m(*args, **kwargs)\u001b[0m\n\u001b[0;32m    309\u001b[0m                     \u001b[0mstacklevel\u001b[0m\u001b[1;33m=\u001b[0m\u001b[0mstacklevel\u001b[0m\u001b[1;33m,\u001b[0m\u001b[1;33m\u001b[0m\u001b[1;33m\u001b[0m\u001b[0m\n\u001b[0;32m    310\u001b[0m                 )\n\u001b[1;32m--> 311\u001b[1;33m             \u001b[1;32mreturn\u001b[0m \u001b[0mfunc\u001b[0m\u001b[1;33m(\u001b[0m\u001b[1;33m*\u001b[0m\u001b[0margs\u001b[0m\u001b[1;33m,\u001b[0m \u001b[1;33m**\u001b[0m\u001b[0mkwargs\u001b[0m\u001b[1;33m)\u001b[0m\u001b[1;33m\u001b[0m\u001b[1;33m\u001b[0m\u001b[0m\n\u001b[0m\u001b[0;32m    312\u001b[0m \u001b[1;33m\u001b[0m\u001b[0m\n\u001b[0;32m    313\u001b[0m         \u001b[1;32mreturn\u001b[0m \u001b[0mwrapper\u001b[0m\u001b[1;33m\u001b[0m\u001b[1;33m\u001b[0m\u001b[0m\n",
      "\u001b[1;32m~\\anaconda3\\lib\\site-packages\\pandas\\core\\series.py\u001b[0m in \u001b[0;36msort_values\u001b[1;34m(self, axis, ascending, inplace, kind, na_position, ignore_index, key)\u001b[0m\n\u001b[0;32m   3428\u001b[0m         \u001b[0minplace\u001b[0m \u001b[1;33m=\u001b[0m \u001b[0mvalidate_bool_kwarg\u001b[0m\u001b[1;33m(\u001b[0m\u001b[0minplace\u001b[0m\u001b[1;33m,\u001b[0m \u001b[1;34m\"inplace\"\u001b[0m\u001b[1;33m)\u001b[0m\u001b[1;33m\u001b[0m\u001b[1;33m\u001b[0m\u001b[0m\n\u001b[0;32m   3429\u001b[0m         \u001b[1;31m# Validate the axis parameter\u001b[0m\u001b[1;33m\u001b[0m\u001b[1;33m\u001b[0m\u001b[0m\n\u001b[1;32m-> 3430\u001b[1;33m         \u001b[0mself\u001b[0m\u001b[1;33m.\u001b[0m\u001b[0m_get_axis_number\u001b[0m\u001b[1;33m(\u001b[0m\u001b[0maxis\u001b[0m\u001b[1;33m)\u001b[0m\u001b[1;33m\u001b[0m\u001b[1;33m\u001b[0m\u001b[0m\n\u001b[0m\u001b[0;32m   3431\u001b[0m \u001b[1;33m\u001b[0m\u001b[0m\n\u001b[0;32m   3432\u001b[0m         \u001b[1;31m# GH 5856/5853\u001b[0m\u001b[1;33m\u001b[0m\u001b[1;33m\u001b[0m\u001b[0m\n",
      "\u001b[1;32m~\\anaconda3\\lib\\site-packages\\pandas\\core\\generic.py\u001b[0m in \u001b[0;36m_get_axis_number\u001b[1;34m(cls, axis)\u001b[0m\n\u001b[0;32m    544\u001b[0m     \u001b[1;32mdef\u001b[0m \u001b[0m_get_axis_number\u001b[0m\u001b[1;33m(\u001b[0m\u001b[0mcls\u001b[0m\u001b[1;33m,\u001b[0m \u001b[0maxis\u001b[0m\u001b[1;33m:\u001b[0m \u001b[0mAxis\u001b[0m\u001b[1;33m)\u001b[0m \u001b[1;33m->\u001b[0m \u001b[0mint\u001b[0m\u001b[1;33m:\u001b[0m\u001b[1;33m\u001b[0m\u001b[1;33m\u001b[0m\u001b[0m\n\u001b[0;32m    545\u001b[0m         \u001b[1;32mtry\u001b[0m\u001b[1;33m:\u001b[0m\u001b[1;33m\u001b[0m\u001b[1;33m\u001b[0m\u001b[0m\n\u001b[1;32m--> 546\u001b[1;33m             \u001b[1;32mreturn\u001b[0m \u001b[0mcls\u001b[0m\u001b[1;33m.\u001b[0m\u001b[0m_AXIS_TO_AXIS_NUMBER\u001b[0m\u001b[1;33m[\u001b[0m\u001b[0maxis\u001b[0m\u001b[1;33m]\u001b[0m\u001b[1;33m\u001b[0m\u001b[1;33m\u001b[0m\u001b[0m\n\u001b[0m\u001b[0;32m    547\u001b[0m         \u001b[1;32mexcept\u001b[0m \u001b[0mKeyError\u001b[0m\u001b[1;33m:\u001b[0m\u001b[1;33m\u001b[0m\u001b[1;33m\u001b[0m\u001b[0m\n\u001b[0;32m    548\u001b[0m             \u001b[1;32mraise\u001b[0m \u001b[0mValueError\u001b[0m\u001b[1;33m(\u001b[0m\u001b[1;34mf\"No axis named {axis} for object type {cls.__name__}\"\u001b[0m\u001b[1;33m)\u001b[0m\u001b[1;33m\u001b[0m\u001b[1;33m\u001b[0m\u001b[0m\n",
      "\u001b[1;31mTypeError\u001b[0m: unhashable type: 'list'"
     ]
    }
   ],
   "source": [
    "atx = data[data['Taxpayer County'] == atx_code]\n",
    "atx_2021 = atx[atx['Obligation End Date'].dt.year == 2021]\n",
    "atx_2021_top = atx_2021['Beer Receipts'].sort_values(['Taxpayer Name', 'Beer Receipts']).groupby('Taxpayer Name')"
   ]
  },
  {
   "cell_type": "code",
   "execution_count": null,
   "id": "cc194e26",
   "metadata": {},
   "outputs": [],
   "source": []
  }
 ],
 "metadata": {
  "kernelspec": {
   "display_name": "Python 3 (ipykernel)",
   "language": "python",
   "name": "python3"
  },
  "language_info": {
   "codemirror_mode": {
    "name": "ipython",
    "version": 3
   },
   "file_extension": ".py",
   "mimetype": "text/x-python",
   "name": "python",
   "nbconvert_exporter": "python",
   "pygments_lexer": "ipython3",
   "version": "3.9.7"
  }
 },
 "nbformat": 4,
 "nbformat_minor": 5
}
