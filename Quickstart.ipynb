{
 "cells": [
  {
   "cell_type": "code",
   "execution_count": null,
   "id": "b929f881-b477-4046-ad00-671a9720d327",
   "metadata": {},
   "outputs": [],
   "source": [
    "# Run only once!\n",
    "# !curl 'https://data.texas.gov/api/views/naix-2893/rows.csv?accessType=DOWNLOAD' >  Mixed_Beverage_Gross_Receipts.csv"
   ]
  },
  {
   "cell_type": "markdown",
   "id": "51347712-2f94-4be7-841b-e15eeac874a7",
   "metadata": {},
   "source": [
    "## Analysis"
   ]
  },
  {
   "cell_type": "code",
   "execution_count": 4,
   "id": "d0c2cc7a-40ac-406c-b5a2-60edda904e47",
   "metadata": {},
   "outputs": [],
   "source": [
    "import pandas as pd"
   ]
  },
  {
   "cell_type": "code",
   "execution_count": 5,
   "id": "57771f64-c106-4292-b2a6-a5f9a1f099e8",
   "metadata": {},
   "outputs": [],
   "source": [
    "df = pd.read_csv('Mixed_Beverage_Gross_Receipts.csv')"
   ]
  },
  {
   "cell_type": "code",
   "execution_count": 6,
   "id": "4533df4a-85ac-4c5f-989b-2a9bfd186fad",
   "metadata": {
    "collapsed": true,
    "jupyter": {
     "outputs_hidden": true
    },
    "tags": []
   },
   "outputs": [
    {
     "data": {
      "text/plain": [
       "Taxpayer Number                 int64\n",
       "Taxpayer Name                  object\n",
       "Taxpayer Address               object\n",
       "Taxpayer City                  object\n",
       "Taxpayer State                 object\n",
       "Taxpayer Zip                  float64\n",
       "Taxpayer County                 int64\n",
       "Location Number                 int64\n",
       "Location Name                  object\n",
       "Location Address               object\n",
       "Location City                  object\n",
       "Location State                 object\n",
       "Location Zip                    int64\n",
       "Location County                 int64\n",
       "Inside/Outside City Limits     object\n",
       "TABC Permit Number             object\n",
       "Responsibility Begin Date      object\n",
       "Responsibility End Date        object\n",
       "Obligation End Date            object\n",
       "Liquor Receipts                 int64\n",
       "Wine Receipts                   int64\n",
       "Beer Receipts                   int64\n",
       "Cover Charge Receipts           int64\n",
       "Total Receipts                  int64\n",
       "dtype: object"
      ]
     },
     "execution_count": 6,
     "metadata": {},
     "output_type": "execute_result"
    }
   ],
   "source": [
    "df.dtypes"
   ]
  },
  {
   "cell_type": "code",
   "execution_count": 10,
   "id": "75d7d52d-5570-43eb-bab0-a8ff67411a77",
   "metadata": {},
   "outputs": [],
   "source": [
    "## @cynthiiaa\n",
    "# remove spacing from cloumn names\n",
    "df.rename(columns=lambda s: s.replace(\" \", \"_\"), inplace=True)"
   ]
  },
  {
   "cell_type": "code",
   "execution_count": 11,
   "id": "3e2b1818-5471-40ab-922b-58e28877561a",
   "metadata": {},
   "outputs": [],
   "source": [
    "## @cynthiiaa\n",
    "# change strings to dates\n",
    "df['Responsibility_Begin_Date'] = pd.to_datetime(df['Responsibility_Begin_Date'])\n",
    "df['Responsibility_End_Date'] = pd.to_datetime(df['Responsibility_End_Date'])\n",
    "df['Obligation_End_Date'] = pd.to_datetime(df['Obligation_End_Date'])"
   ]
  },
  {
   "cell_type": "code",
   "execution_count": 12,
   "id": "038d10a7-5ca8-422b-ab6b-9a2e88ae8076",
   "metadata": {
    "tags": []
   },
   "outputs": [
    {
     "data": {
      "text/html": [
       "<div>\n",
       "<style scoped>\n",
       "    .dataframe tbody tr th:only-of-type {\n",
       "        vertical-align: middle;\n",
       "    }\n",
       "\n",
       "    .dataframe tbody tr th {\n",
       "        vertical-align: top;\n",
       "    }\n",
       "\n",
       "    .dataframe thead th {\n",
       "        text-align: right;\n",
       "    }\n",
       "</style>\n",
       "<table border=\"1\" class=\"dataframe\">\n",
       "  <thead>\n",
       "    <tr style=\"text-align: right;\">\n",
       "      <th></th>\n",
       "      <th>Taxpayer_Number</th>\n",
       "      <th>Taxpayer_Name</th>\n",
       "      <th>Taxpayer_Address</th>\n",
       "      <th>Taxpayer_City</th>\n",
       "      <th>Taxpayer_State</th>\n",
       "      <th>Taxpayer_Zip</th>\n",
       "      <th>Taxpayer_County</th>\n",
       "      <th>Location_Number</th>\n",
       "      <th>Location_Name</th>\n",
       "      <th>Location_Address</th>\n",
       "      <th>...</th>\n",
       "      <th>Inside/Outside_City_Limits</th>\n",
       "      <th>TABC_Permit_Number</th>\n",
       "      <th>Responsibility_Begin_Date</th>\n",
       "      <th>Responsibility_End_Date</th>\n",
       "      <th>Obligation_End_Date</th>\n",
       "      <th>Liquor_Receipts</th>\n",
       "      <th>Wine_Receipts</th>\n",
       "      <th>Beer_Receipts</th>\n",
       "      <th>Cover_Charge_Receipts</th>\n",
       "      <th>Total_Receipts</th>\n",
       "    </tr>\n",
       "  </thead>\n",
       "  <tbody>\n",
       "    <tr>\n",
       "      <th>0</th>\n",
       "      <td>32047970895</td>\n",
       "      <td>HONDURAS MAYA CAFE &amp; BAR LLC</td>\n",
       "      <td>8011 HAZEN ST</td>\n",
       "      <td>HOUSTON</td>\n",
       "      <td>TX</td>\n",
       "      <td>77036.0</td>\n",
       "      <td>101</td>\n",
       "      <td>1</td>\n",
       "      <td>HONDURAS MAYA CAFE &amp; BAR LLC</td>\n",
       "      <td>5945 BELLAIRE BLVD STE B</td>\n",
       "      <td>...</td>\n",
       "      <td>Y</td>\n",
       "      <td>MB817033</td>\n",
       "      <td>2012-08-16</td>\n",
       "      <td>2019-09-12</td>\n",
       "      <td>2019-07-31</td>\n",
       "      <td>0</td>\n",
       "      <td>0</td>\n",
       "      <td>0</td>\n",
       "      <td>0</td>\n",
       "      <td>0</td>\n",
       "    </tr>\n",
       "    <tr>\n",
       "      <th>1</th>\n",
       "      <td>32049923835</td>\n",
       "      <td>MERMAID KARAOKE PRIVATE CLUB, INC.</td>\n",
       "      <td>2639 WALNUT HILL LN STE 225</td>\n",
       "      <td>DALLAS</td>\n",
       "      <td>TX</td>\n",
       "      <td>75229.0</td>\n",
       "      <td>57</td>\n",
       "      <td>1</td>\n",
       "      <td>MERMAID KARAOKE PRIVATE CLUB</td>\n",
       "      <td>1310 W CAMPBELL RD STE 103</td>\n",
       "      <td>...</td>\n",
       "      <td>Y</td>\n",
       "      <td>N 837378</td>\n",
       "      <td>2013-04-12</td>\n",
       "      <td>2015-07-01</td>\n",
       "      <td>2014-08-31</td>\n",
       "      <td>480</td>\n",
       "      <td>185</td>\n",
       "      <td>1374</td>\n",
       "      <td>0</td>\n",
       "      <td>2039</td>\n",
       "    </tr>\n",
       "    <tr>\n",
       "      <th>2</th>\n",
       "      <td>32034036304</td>\n",
       "      <td>FENG KAI CORPORATION</td>\n",
       "      <td>8427 BOULEVARD 26</td>\n",
       "      <td>N RICHLND HLS</td>\n",
       "      <td>TX</td>\n",
       "      <td>76180.0</td>\n",
       "      <td>220</td>\n",
       "      <td>1</td>\n",
       "      <td>JAPANESE GRILL</td>\n",
       "      <td>8427 BOULEVARD 26</td>\n",
       "      <td>...</td>\n",
       "      <td>Y</td>\n",
       "      <td>MB576670</td>\n",
       "      <td>2008-05-01</td>\n",
       "      <td>2018-03-17</td>\n",
       "      <td>2016-06-30</td>\n",
       "      <td>1143</td>\n",
       "      <td>167</td>\n",
       "      <td>669</td>\n",
       "      <td>0</td>\n",
       "      <td>1979</td>\n",
       "    </tr>\n",
       "    <tr>\n",
       "      <th>3</th>\n",
       "      <td>14537211071</td>\n",
       "      <td>THE HUTTO SMITHS, LLC</td>\n",
       "      <td>429 LITTLE LAKE RD</td>\n",
       "      <td>HUTTO</td>\n",
       "      <td>TX</td>\n",
       "      <td>78634.0</td>\n",
       "      <td>246</td>\n",
       "      <td>1</td>\n",
       "      <td>THE DOWNTOWN HALL OF FAME</td>\n",
       "      <td>205 EAST ST</td>\n",
       "      <td>...</td>\n",
       "      <td>Y</td>\n",
       "      <td>MB791778</td>\n",
       "      <td>2011-12-06</td>\n",
       "      <td>NaT</td>\n",
       "      <td>2018-03-31</td>\n",
       "      <td>12881</td>\n",
       "      <td>357</td>\n",
       "      <td>10447</td>\n",
       "      <td>0</td>\n",
       "      <td>23685</td>\n",
       "    </tr>\n",
       "    <tr>\n",
       "      <th>4</th>\n",
       "      <td>32019999229</td>\n",
       "      <td>THE CROSSING AT FIDDLE CREEK, INC.</td>\n",
       "      <td>1620 W CEDAR ST</td>\n",
       "      <td>STEPHENVILLE</td>\n",
       "      <td>TX</td>\n",
       "      <td>76401.0</td>\n",
       "      <td>72</td>\n",
       "      <td>1</td>\n",
       "      <td>THE CROSSING AT FIDDLE CREEK INC</td>\n",
       "      <td>2004 W SWAN ST</td>\n",
       "      <td>...</td>\n",
       "      <td>Y</td>\n",
       "      <td>N 643163</td>\n",
       "      <td>2006-10-26</td>\n",
       "      <td>2013-11-30</td>\n",
       "      <td>2008-08-31</td>\n",
       "      <td>4841</td>\n",
       "      <td>2413</td>\n",
       "      <td>4620</td>\n",
       "      <td>0</td>\n",
       "      <td>11874</td>\n",
       "    </tr>\n",
       "  </tbody>\n",
       "</table>\n",
       "<p>5 rows × 24 columns</p>\n",
       "</div>"
      ],
      "text/plain": [
       "   Taxpayer_Number                       Taxpayer_Name  \\\n",
       "0      32047970895        HONDURAS MAYA CAFE & BAR LLC   \n",
       "1      32049923835  MERMAID KARAOKE PRIVATE CLUB, INC.   \n",
       "2      32034036304                FENG KAI CORPORATION   \n",
       "3      14537211071               THE HUTTO SMITHS, LLC   \n",
       "4      32019999229  THE CROSSING AT FIDDLE CREEK, INC.   \n",
       "\n",
       "              Taxpayer_Address  Taxpayer_City Taxpayer_State  Taxpayer_Zip  \\\n",
       "0                8011 HAZEN ST        HOUSTON             TX       77036.0   \n",
       "1  2639 WALNUT HILL LN STE 225         DALLAS             TX       75229.0   \n",
       "2            8427 BOULEVARD 26  N RICHLND HLS             TX       76180.0   \n",
       "3           429 LITTLE LAKE RD          HUTTO             TX       78634.0   \n",
       "4              1620 W CEDAR ST   STEPHENVILLE             TX       76401.0   \n",
       "\n",
       "   Taxpayer_County  Location_Number                     Location_Name  \\\n",
       "0              101                1      HONDURAS MAYA CAFE & BAR LLC   \n",
       "1               57                1      MERMAID KARAOKE PRIVATE CLUB   \n",
       "2              220                1                    JAPANESE GRILL   \n",
       "3              246                1         THE DOWNTOWN HALL OF FAME   \n",
       "4               72                1  THE CROSSING AT FIDDLE CREEK INC   \n",
       "\n",
       "             Location_Address  ... Inside/Outside_City_Limits  \\\n",
       "0    5945 BELLAIRE BLVD STE B  ...                          Y   \n",
       "1  1310 W CAMPBELL RD STE 103  ...                          Y   \n",
       "2           8427 BOULEVARD 26  ...                          Y   \n",
       "3                 205 EAST ST  ...                          Y   \n",
       "4              2004 W SWAN ST  ...                          Y   \n",
       "\n",
       "  TABC_Permit_Number  Responsibility_Begin_Date  Responsibility_End_Date  \\\n",
       "0           MB817033                 2012-08-16               2019-09-12   \n",
       "1           N 837378                 2013-04-12               2015-07-01   \n",
       "2           MB576670                 2008-05-01               2018-03-17   \n",
       "3           MB791778                 2011-12-06                      NaT   \n",
       "4           N 643163                 2006-10-26               2013-11-30   \n",
       "\n",
       "  Obligation_End_Date Liquor_Receipts Wine_Receipts Beer_Receipts  \\\n",
       "0          2019-07-31               0             0             0   \n",
       "1          2014-08-31             480           185          1374   \n",
       "2          2016-06-30            1143           167           669   \n",
       "3          2018-03-31           12881           357         10447   \n",
       "4          2008-08-31            4841          2413          4620   \n",
       "\n",
       "  Cover_Charge_Receipts  Total_Receipts  \n",
       "0                     0               0  \n",
       "1                     0            2039  \n",
       "2                     0            1979  \n",
       "3                     0           23685  \n",
       "4                     0           11874  \n",
       "\n",
       "[5 rows x 24 columns]"
      ]
     },
     "execution_count": 12,
     "metadata": {},
     "output_type": "execute_result"
    }
   ],
   "source": [
    "df.head()"
   ]
  },
  {
   "cell_type": "markdown",
   "id": "d16113c2-af57-4b2c-b538-fd868a14622c",
   "metadata": {},
   "source": [
    "## Correction for TABC Permit Numbers being reused (optional)"
   ]
  },
  {
   "cell_type": "code",
   "execution_count": 13,
   "id": "641647e5-d540-43ad-a5cf-7e5cb5404063",
   "metadata": {},
   "outputs": [],
   "source": [
    "# @mike\n",
    "df_bar_id = pd.read_csv('bar_id.csv')"
   ]
  },
  {
   "cell_type": "code",
   "execution_count": 24,
   "id": "79be62da-7d77-4a1d-8803-c1eeae39b716",
   "metadata": {},
   "outputs": [],
   "source": [
    "df_bar_id.drop(columns=df_bar_id.columns[0], inplace=True)\n",
    "df_bar_id.rename(columns=lambda s: s.replace(\" \", \"_\"), inplace=True)"
   ]
  },
  {
   "cell_type": "code",
   "execution_count": 25,
   "id": "80e61eef-94bc-429b-a62b-7cab65804773",
   "metadata": {
    "collapsed": true,
    "jupyter": {
     "outputs_hidden": true
    },
    "tags": []
   },
   "outputs": [
    {
     "data": {
      "text/html": [
       "<div>\n",
       "<style scoped>\n",
       "    .dataframe tbody tr th:only-of-type {\n",
       "        vertical-align: middle;\n",
       "    }\n",
       "\n",
       "    .dataframe tbody tr th {\n",
       "        vertical-align: top;\n",
       "    }\n",
       "\n",
       "    .dataframe thead th {\n",
       "        text-align: right;\n",
       "    }\n",
       "</style>\n",
       "<table border=\"1\" class=\"dataframe\">\n",
       "  <thead>\n",
       "    <tr style=\"text-align: right;\">\n",
       "      <th></th>\n",
       "      <th>Taxpayer_Number</th>\n",
       "      <th>Location_Name</th>\n",
       "      <th>Location_Address</th>\n",
       "      <th>id</th>\n",
       "    </tr>\n",
       "  </thead>\n",
       "  <tbody>\n",
       "    <tr>\n",
       "      <th>0</th>\n",
       "      <td>17412556130</td>\n",
       "      <td>ST VINCENT DE PAUL CATHOLIC CHURCH</td>\n",
       "      <td>6800 BUFFALO SPEEDWAY</td>\n",
       "      <td>7a461924bdcc9076f69fb131e9eb34b53508280c</td>\n",
       "    </tr>\n",
       "    <tr>\n",
       "      <th>1</th>\n",
       "      <td>17518459122</td>\n",
       "      <td>ST JOHN THE BAPTIST FUND RAISER</td>\n",
       "      <td>303 CULLUM DR</td>\n",
       "      <td>097c4ffb2b7d24b491f638e865225cd9032aa3c7</td>\n",
       "    </tr>\n",
       "    <tr>\n",
       "      <th>2</th>\n",
       "      <td>17424553364</td>\n",
       "      <td>AUSTIN FOOD &amp; WINE FESTIVAL</td>\n",
       "      <td>900 W RIVERSIDE DR</td>\n",
       "      <td>991349f3bbbb4536af2fec0e3d52b3f54ae379a1</td>\n",
       "    </tr>\n",
       "    <tr>\n",
       "      <th>3</th>\n",
       "      <td>17424553364</td>\n",
       "      <td>AUSTIN FOOD &amp; WINE FESTIVAL - REPUBLIC SQUARE ...</td>\n",
       "      <td>422 GUADALUPE ST</td>\n",
       "      <td>49793fa32b11f2ca0415c7700c324987bbac51bf</td>\n",
       "    </tr>\n",
       "    <tr>\n",
       "      <th>4</th>\n",
       "      <td>17410490514</td>\n",
       "      <td>THE SUN BOWL ASSOCIATION</td>\n",
       "      <td>4150 PINNACLE ST STE 100</td>\n",
       "      <td>3f4209882cabf23841b71c0a0a0f66a78e7a0467</td>\n",
       "    </tr>\n",
       "  </tbody>\n",
       "</table>\n",
       "</div>"
      ],
      "text/plain": [
       "   Taxpayer_Number                                      Location_Name  \\\n",
       "0      17412556130                 ST VINCENT DE PAUL CATHOLIC CHURCH   \n",
       "1      17518459122                    ST JOHN THE BAPTIST FUND RAISER   \n",
       "2      17424553364                        AUSTIN FOOD & WINE FESTIVAL   \n",
       "3      17424553364  AUSTIN FOOD & WINE FESTIVAL - REPUBLIC SQUARE ...   \n",
       "4      17410490514                           THE SUN BOWL ASSOCIATION   \n",
       "\n",
       "           Location_Address                                        id  \n",
       "0     6800 BUFFALO SPEEDWAY  7a461924bdcc9076f69fb131e9eb34b53508280c  \n",
       "1             303 CULLUM DR  097c4ffb2b7d24b491f638e865225cd9032aa3c7  \n",
       "2        900 W RIVERSIDE DR  991349f3bbbb4536af2fec0e3d52b3f54ae379a1  \n",
       "3          422 GUADALUPE ST  49793fa32b11f2ca0415c7700c324987bbac51bf  \n",
       "4  4150 PINNACLE ST STE 100  3f4209882cabf23841b71c0a0a0f66a78e7a0467  "
      ]
     },
     "execution_count": 25,
     "metadata": {},
     "output_type": "execute_result"
    }
   ],
   "source": [
    "df_bar_id.head()"
   ]
  },
  {
   "cell_type": "code",
   "execution_count": 27,
   "id": "3534290e-ff9f-49cd-9518-c5542596bd08",
   "metadata": {},
   "outputs": [],
   "source": [
    "df = df.merge(df_bar_id)"
   ]
  },
  {
   "cell_type": "code",
   "execution_count": 29,
   "id": "733a1634-1f3c-48b5-8b8b-52bd9996c9a9",
   "metadata": {},
   "outputs": [
    {
     "data": {
      "text/plain": [
       "46041"
      ]
     },
     "execution_count": 29,
     "metadata": {},
     "output_type": "execute_result"
    }
   ],
   "source": [
    "df['id'].nunique()"
   ]
  },
  {
   "cell_type": "code",
   "execution_count": 30,
   "id": "21e23bd1-3de9-4c81-82e2-4df5d8d2f080",
   "metadata": {},
   "outputs": [
    {
     "data": {
      "text/plain": [
       "34663"
      ]
     },
     "execution_count": 30,
     "metadata": {},
     "output_type": "execute_result"
    }
   ],
   "source": [
    "df['Taxpayer_Number'].nunique()"
   ]
  },
  {
   "cell_type": "code",
   "execution_count": null,
   "id": "a4fd480d-e673-4d65-b808-32ad20f707e5",
   "metadata": {},
   "outputs": [],
   "source": []
  }
 ],
 "metadata": {
  "kernelspec": {
   "display_name": "Python 3 (ipykernel)",
   "language": "python",
   "name": "python3"
  },
  "language_info": {
   "codemirror_mode": {
    "name": "ipython",
    "version": 3
   },
   "file_extension": ".py",
   "mimetype": "text/x-python",
   "name": "python",
   "nbconvert_exporter": "python",
   "pygments_lexer": "ipython3",
   "version": "3.10.4"
  }
 },
 "nbformat": 4,
 "nbformat_minor": 5
}
