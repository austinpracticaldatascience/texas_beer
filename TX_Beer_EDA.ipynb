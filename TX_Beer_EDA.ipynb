{
 "cells": [
  {
   "cell_type": "code",
   "execution_count": 1,
   "id": "2281f4dd-59ab-422c-8a75-f153caba509e",
   "metadata": {},
   "outputs": [],
   "source": [
    "import pandas as pd\n",
    "import geopandas as gpd\n",
    "import plotly"
   ]
  },
  {
   "cell_type": "code",
   "execution_count": 2,
   "id": "3ee40392-f049-4723-b537-9dfc2a6bcb00",
   "metadata": {},
   "outputs": [
    {
     "name": "stdout",
     "output_type": "stream",
     "text": [
      "<class 'pandas.core.frame.DataFrame'>\n",
      "RangeIndex: 2829288 entries, 0 to 2829287\n",
      "Data columns (total 24 columns):\n",
      " #   Column                      Dtype  \n",
      "---  ------                      -----  \n",
      " 0   Taxpayer Number             int64  \n",
      " 1   Taxpayer Name               object \n",
      " 2   Taxpayer Address            object \n",
      " 3   Taxpayer City               object \n",
      " 4   Taxpayer State              object \n",
      " 5   Taxpayer Zip                float64\n",
      " 6   Taxpayer County             int64  \n",
      " 7   Location Number             int64  \n",
      " 8   Location Name               object \n",
      " 9   Location Address            object \n",
      " 10  Location City               object \n",
      " 11  Location State              object \n",
      " 12  Location Zip                int64  \n",
      " 13  Location County             int64  \n",
      " 14  Inside/Outside City Limits  object \n",
      " 15  TABC Permit Number          object \n",
      " 16  Responsibility Begin Date   object \n",
      " 17  Responsibility End Date     object \n",
      " 18  Obligation End Date         object \n",
      " 19  Liquor Receipts             int64  \n",
      " 20  Wine Receipts               int64  \n",
      " 21  Beer Receipts               int64  \n",
      " 22  Cover Charge Receipts       int64  \n",
      " 23  Total Receipts              int64  \n",
      "dtypes: float64(1), int64(10), object(13)\n",
      "memory usage: 518.1+ MB\n"
     ]
    }
   ],
   "source": [
    "beer_data = pd.read_csv(\"data/Mixed_Beverage_Gross_Receipts.csv\")\n",
    "beer_data.info()"
   ]
  },
  {
   "cell_type": "code",
   "execution_count": 3,
   "id": "afe94389-edf7-4c41-84ef-ce3097dc6995",
   "metadata": {},
   "outputs": [
    {
     "name": "stdout",
     "output_type": "stream",
     "text": [
      "Before dropping dupes: 2829288\n",
      "After dropping dupes: 2829288\n"
     ]
    }
   ],
   "source": [
    "# look for duplicates\n",
    "print(\"Before dropping dupes:\", len(beer_data))\n",
    "\n",
    "beer_data.drop_duplicates(inplace=True, ignore_index=True)\n",
    "print(\"After dropping dupes:\", len(beer_data))"
   ]
  },
  {
   "cell_type": "code",
   "execution_count": 4,
   "id": "3275e10d-648b-4068-b8dd-b135c35e5dea",
   "metadata": {},
   "outputs": [
    {
     "data": {
      "text/plain": [
       "HOUSTON        378037\n",
       "DALLAS         241200\n",
       "SAN ANTONIO    184200\n",
       "AUSTIN         177581\n",
       "FORT WORTH     102328\n",
       "                ...  \n",
       "AURORA              1\n",
       "GRAPELAND           1\n",
       "DALE                1\n",
       "INDUSTRY            1\n",
       "GROESBECK           1\n",
       "Name: Location City, Length: 956, dtype: int64"
      ]
     },
     "execution_count": 4,
     "metadata": {},
     "output_type": "execute_result"
    }
   ],
   "source": [
    "beer_data[\"Location City\"].value_counts()"
   ]
  },
  {
   "cell_type": "code",
   "execution_count": 6,
   "id": "71b09cad-7c41-4d16-9daf-1e49480455a8",
   "metadata": {},
   "outputs": [],
   "source": [
    "atx_data = beer_data[beer_data[\"Location City\"] == \"AUSTIN\"]\n",
    "dall_data = beer_data[beer_data[\"Location City\"] == \"DALLAS\"]\n",
    "fort_data = beer_data[beer_data[\"Location City\"] == \"FORT WORTH\"]\n",
    "hou_data = beer_data[beer_data[\"Location City\"] == \"HOUSTON\"]\n",
    "san_an_data = beer_data[beer_data[\"Location City\"] == \"SAN ANTONIO\"]"
   ]
  },
  {
   "cell_type": "code",
   "execution_count": 7,
   "id": "5ba2672b-b5d5-4b9f-b06a-362a5eec0531",
   "metadata": {},
   "outputs": [],
   "source": [
    "dfw_data = pd.concat([dall_data, fort_data],ignore_index=True).drop_duplicates().reset_index(drop=True)"
   ]
  },
  {
   "cell_type": "code",
   "execution_count": 8,
   "id": "2cd665c7-c94f-4a3d-b02c-bb604aab80a5",
   "metadata": {},
   "outputs": [
    {
     "data": {
      "text/plain": [
       "DALLAS        241200\n",
       "FORT WORTH    102328\n",
       "Name: Location City, dtype: int64"
      ]
     },
     "execution_count": 8,
     "metadata": {},
     "output_type": "execute_result"
    }
   ],
   "source": [
    "dfw_data[\"Location City\"].value_counts()"
   ]
  },
  {
   "cell_type": "code",
   "execution_count": 9,
   "id": "e17b98c5-6362-446c-a268-17fd840be50a",
   "metadata": {},
   "outputs": [],
   "source": [
    "del dall_data\n",
    "del fort_data"
   ]
  },
  {
   "cell_type": "code",
   "execution_count": null,
   "id": "90a64b0e-128b-4f62-8dcd-5ef9497a843b",
   "metadata": {},
   "outputs": [],
   "source": []
  }
 ],
 "metadata": {
  "kernelspec": {
   "display_name": "Python 3 (ipykernel)",
   "language": "python",
   "name": "python3"
  },
  "language_info": {
   "codemirror_mode": {
    "name": "ipython",
    "version": 3
   },
   "file_extension": ".py",
   "mimetype": "text/x-python",
   "name": "python",
   "nbconvert_exporter": "python",
   "pygments_lexer": "ipython3",
   "version": "3.8.11"
  }
 },
 "nbformat": 4,
 "nbformat_minor": 5
}
