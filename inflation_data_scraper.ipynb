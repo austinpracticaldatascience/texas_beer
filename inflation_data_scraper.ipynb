{
 "cells": [
  {
   "cell_type": "code",
   "execution_count": 1,
   "id": "0af9c0a7-620d-4dca-ba95-35660809d572",
   "metadata": {},
   "outputs": [],
   "source": [
    "import pandas as pd\n",
    "import requests\n",
    "import json"
   ]
  },
  {
   "cell_type": "code",
   "execution_count": 2,
   "id": "362e2a2b-441b-4a65-bd44-79cb7b88c6b3",
   "metadata": {},
   "outputs": [],
   "source": [
    "price_series = {\n",
    "    'USA':'CUUR0000SAF116',\n",
    "    'Houston':'CUURS37BSAF116',\n",
    "    'DFW':'CUURS37ASAF116'\n",
    "}"
   ]
  },
  {
   "cell_type": "raw",
   "id": "079d11c2-0fa5-4bb6-8284-7fa9b7270828",
   "metadata": {},
   "source": [
    "request_data"
   ]
  },
  {
   "cell_type": "raw",
   "id": "8d8300c1-38f6-4a83-b69f-b8c42b073271",
   "metadata": {},
   "source": [
    "p = requests.post('https://api.bls.gov/publicAPI/v2/timeseries/data/',\n",
    "                  data=request_data,\n",
    "                  headers=headers)\n",
    "json_data = json.loads(p.text)"
   ]
  },
  {
   "cell_type": "code",
   "execution_count": 3,
   "id": "8b5347a4-168e-4089-9095-0210fa076a0a",
   "metadata": {},
   "outputs": [],
   "source": [
    "start_year = 1990\n",
    "end_year = 2022"
   ]
  },
  {
   "cell_type": "markdown",
   "id": "baef6a8f-5329-4e43-b0a8-32632f278cc6",
   "metadata": {},
   "source": [
    "We can only download 9 years, 11 months of data at a time. If data range is larger than this, then loop over it."
   ]
  },
  {
   "cell_type": "code",
   "execution_count": null,
   "id": "d38a4176-afaa-4673-a204-7659962cd49a",
   "metadata": {},
   "outputs": [],
   "source": [
    "if end_year - start_year > 9:\n",
    "    for \n",
    "else:\n",
    "    \n",
    "    "
   ]
  },
  {
   "cell_type": "code",
   "execution_count": 58,
   "id": "dda5b908-b4d2-46ef-bba4-fdd4becbd9bb",
   "metadata": {},
   "outputs": [],
   "source": [
    "headers = {'Content-type': 'application/json'}\n",
    "data = json.dumps({\"seriesid\": [v for v in price_series.values()],\n",
    "                   \"startyear\":\"1990\", \"endyear\":\"1999\"})\n",
    "p = requests.post('https://api.bls.gov/publicAPI/v2/timeseries/data/', data=data, headers=headers)\n",
    "json_data = json.loads(p.text)"
   ]
  },
  {
   "cell_type": "code",
   "execution_count": null,
   "id": "76e5889b-e5be-4c52-8199-2784039dc5ae",
   "metadata": {},
   "outputs": [],
   "source": []
  },
  {
   "cell_type": "code",
   "execution_count": null,
   "id": "2ac2ff05-5a39-4588-aaa7-a8f08846a6fa",
   "metadata": {},
   "outputs": [],
   "source": []
  },
  {
   "cell_type": "code",
   "execution_count": null,
   "id": "ee40676e-20c4-403d-a3d9-0c41010d84de",
   "metadata": {},
   "outputs": [],
   "source": [
    "for series in json_data['Results']['series']:\n",
    "    x=prettytable.PrettyTable([\"series id\",\"year\",\"period\",\"value\",\"footnotes\"])\n",
    "    seriesId = series['seriesID']\n",
    "    for item in series['data']:\n",
    "        year = item['year']\n",
    "        period = item['period']\n",
    "        value = item['value']\n",
    "        footnotes=\"\"\n",
    "        for footnote in item['footnotes']:\n",
    "            if footnote:\n",
    "                footnotes = footnotes + footnote['text'] + ','\n",
    "        if 'M01' <= period <= 'M12':\n",
    "            x.add_row([seriesId,year,period,value,footnotes[0:-1]])\n",
    "    output = open(seriesId + '.txt','w')\n",
    "    output.write (x.get_string())\n",
    "    output.close()"
   ]
  }
 ],
 "metadata": {
  "kernelspec": {
   "display_name": "Python 3 (ipykernel)",
   "language": "python",
   "name": "python3"
  },
  "language_info": {
   "codemirror_mode": {
    "name": "ipython",
    "version": 3
   },
   "file_extension": ".py",
   "mimetype": "text/x-python",
   "name": "python",
   "nbconvert_exporter": "python",
   "pygments_lexer": "ipython3",
   "version": "3.10.4"
  }
 },
 "nbformat": 4,
 "nbformat_minor": 5
}
